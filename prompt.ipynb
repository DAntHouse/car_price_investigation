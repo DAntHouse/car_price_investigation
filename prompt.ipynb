{
 "cells": [
  {
   "cell_type": "markdown",
   "metadata": {},
   "source": [
    "# What drives the price of a car?\n",
    "\n",
    "![](images/kurt.jpeg)"
   ]
  },
  {
   "cell_type": "markdown",
   "metadata": {},
   "source": [
    "**OVERVIEW**\n",
    "\n",
    "In this application, you will explore a dataset from Kaggle. The original dataset contained information on 3 million used cars. The provided dataset contains information on 426K cars to ensure speed of processing.  Your goal is to understand what factors make a car more or less expensive.  As a result of your analysis, you should provide clear recommendations to your client -- a used car dealership -- as to what consumers value in a used car."
   ]
  },
  {
   "cell_type": "markdown",
   "metadata": {},
   "source": [
    "### CRISP-DM Framework\n",
    "\n",
    "<center>\n",
    "    <img src = images/crisp.png width = 50%/>\n",
    "</center>\n",
    "\n",
    "\n",
    "To frame the task, throughout our practical applications, we will refer back to a standard process in industry for data projects called CRISP-DM.  This process provides a framework for working through a data problem.  Your first step in this application will be to read through a brief overview of CRISP-DM [here](https://mo-pcco.s3.us-east-1.amazonaws.com/BH-PCMLAI/module_11/readings_starter.zip).  After reading the overview, answer the questions below."
   ]
  },
  {
   "cell_type": "markdown",
   "metadata": {},
   "source": [
    "### Business Understanding\n",
    "\n",
    "From a business perspective, we are tasked with identifying key drivers for used car prices.  In the CRISP-DM overview, we are asked to convert this business framing to a data problem definition.  Using a few sentences, reframe the task as a data task with the appropriate technical vocabulary. "
   ]
  },
  {
   "cell_type": "code",
   "execution_count": null,
   "metadata": {},
   "outputs": [],
   "source": []
  },
  {
   "cell_type": "code",
   "execution_count": null,
   "metadata": {},
   "outputs": [],
   "source": []
  },
  {
   "cell_type": "code",
   "execution_count": null,
   "metadata": {},
   "outputs": [],
   "source": []
  },
  {
   "cell_type": "code",
   "execution_count": null,
   "metadata": {},
   "outputs": [],
   "source": []
  },
  {
   "cell_type": "markdown",
   "metadata": {},
   "source": [
    "### Data Understanding\n",
    "\n",
    "After considering the business understanding, we want to get familiar with our data.  Write down some steps that you would take to get to know the dataset and identify any quality issues within.  Take time to get to know the dataset and explore what information it contains and how this could be used to inform your business understanding."
   ]
  },
  {
   "cell_type": "code",
   "execution_count": 13,
   "metadata": {},
   "outputs": [
    {
     "data": {
      "text/html": [
       "<div>\n",
       "<style scoped>\n",
       "    .dataframe tbody tr th:only-of-type {\n",
       "        vertical-align: middle;\n",
       "    }\n",
       "\n",
       "    .dataframe tbody tr th {\n",
       "        vertical-align: top;\n",
       "    }\n",
       "\n",
       "    .dataframe thead th {\n",
       "        text-align: right;\n",
       "    }\n",
       "</style>\n",
       "<table border=\"1\" class=\"dataframe\">\n",
       "  <thead>\n",
       "    <tr style=\"text-align: right;\">\n",
       "      <th></th>\n",
       "      <th>id</th>\n",
       "      <th>region</th>\n",
       "      <th>price</th>\n",
       "      <th>year</th>\n",
       "      <th>manufacturer</th>\n",
       "      <th>model</th>\n",
       "      <th>condition</th>\n",
       "      <th>cylinders</th>\n",
       "      <th>fuel</th>\n",
       "      <th>odometer</th>\n",
       "      <th>title_status</th>\n",
       "      <th>transmission</th>\n",
       "      <th>VIN</th>\n",
       "      <th>drive</th>\n",
       "      <th>size</th>\n",
       "      <th>type</th>\n",
       "      <th>paint_color</th>\n",
       "      <th>state</th>\n",
       "    </tr>\n",
       "  </thead>\n",
       "  <tbody>\n",
       "    <tr>\n",
       "      <th>215</th>\n",
       "      <td>7.316482e+09</td>\n",
       "      <td>birmingham</td>\n",
       "      <td>4000.0</td>\n",
       "      <td>2002.0</td>\n",
       "      <td>toyota</td>\n",
       "      <td>echo</td>\n",
       "      <td>excellent</td>\n",
       "      <td>4 cylinders</td>\n",
       "      <td>gas</td>\n",
       "      <td>155000.0</td>\n",
       "      <td>clean</td>\n",
       "      <td>automatic</td>\n",
       "      <td>JTDBT123520243495</td>\n",
       "      <td>fwd</td>\n",
       "      <td>compact</td>\n",
       "      <td>sedan</td>\n",
       "      <td>blue</td>\n",
       "      <td>al</td>\n",
       "    </tr>\n",
       "    <tr>\n",
       "      <th>219</th>\n",
       "      <td>7.316429e+09</td>\n",
       "      <td>birmingham</td>\n",
       "      <td>2500.0</td>\n",
       "      <td>1995.0</td>\n",
       "      <td>bmw</td>\n",
       "      <td>525i</td>\n",
       "      <td>fair</td>\n",
       "      <td>6 cylinders</td>\n",
       "      <td>gas</td>\n",
       "      <td>110661.0</td>\n",
       "      <td>clean</td>\n",
       "      <td>automatic</td>\n",
       "      <td>WBAHD6322SGK86772</td>\n",
       "      <td>rwd</td>\n",
       "      <td>mid-size</td>\n",
       "      <td>sedan</td>\n",
       "      <td>white</td>\n",
       "      <td>al</td>\n",
       "    </tr>\n",
       "    <tr>\n",
       "      <th>268</th>\n",
       "      <td>7.315946e+09</td>\n",
       "      <td>birmingham</td>\n",
       "      <td>9000.0</td>\n",
       "      <td>2008.0</td>\n",
       "      <td>mazda</td>\n",
       "      <td>miata mx-5</td>\n",
       "      <td>excellent</td>\n",
       "      <td>4 cylinders</td>\n",
       "      <td>gas</td>\n",
       "      <td>56700.0</td>\n",
       "      <td>clean</td>\n",
       "      <td>automatic</td>\n",
       "      <td>JM1NC25F570128735</td>\n",
       "      <td>rwd</td>\n",
       "      <td>compact</td>\n",
       "      <td>convertible</td>\n",
       "      <td>white</td>\n",
       "      <td>al</td>\n",
       "    </tr>\n",
       "    <tr>\n",
       "      <th>337</th>\n",
       "      <td>7.315354e+09</td>\n",
       "      <td>birmingham</td>\n",
       "      <td>8950.0</td>\n",
       "      <td>2011.0</td>\n",
       "      <td>ford</td>\n",
       "      <td>f-150</td>\n",
       "      <td>excellent</td>\n",
       "      <td>6 cylinders</td>\n",
       "      <td>gas</td>\n",
       "      <td>164000.0</td>\n",
       "      <td>clean</td>\n",
       "      <td>automatic</td>\n",
       "      <td>1FTMF1CM6BKD55331</td>\n",
       "      <td>fwd</td>\n",
       "      <td>full-size</td>\n",
       "      <td>truck</td>\n",
       "      <td>white</td>\n",
       "      <td>al</td>\n",
       "    </tr>\n",
       "    <tr>\n",
       "      <th>338</th>\n",
       "      <td>7.315350e+09</td>\n",
       "      <td>birmingham</td>\n",
       "      <td>4000.0</td>\n",
       "      <td>1972.0</td>\n",
       "      <td>mercedes-benz</td>\n",
       "      <td>benz</td>\n",
       "      <td>fair</td>\n",
       "      <td>6 cylinders</td>\n",
       "      <td>gas</td>\n",
       "      <td>88100.0</td>\n",
       "      <td>clean</td>\n",
       "      <td>automatic</td>\n",
       "      <td>1.14023E+13</td>\n",
       "      <td>rwd</td>\n",
       "      <td>full-size</td>\n",
       "      <td>coupe</td>\n",
       "      <td>silver</td>\n",
       "      <td>al</td>\n",
       "    </tr>\n",
       "  </tbody>\n",
       "</table>\n",
       "</div>"
      ],
      "text/plain": [
       "               id      region   price    year   manufacturer       model  \\\n",
       "215  7.316482e+09  birmingham  4000.0  2002.0         toyota        echo   \n",
       "219  7.316429e+09  birmingham  2500.0  1995.0            bmw        525i   \n",
       "268  7.315946e+09  birmingham  9000.0  2008.0          mazda  miata mx-5   \n",
       "337  7.315354e+09  birmingham  8950.0  2011.0           ford       f-150   \n",
       "338  7.315350e+09  birmingham  4000.0  1972.0  mercedes-benz        benz   \n",
       "\n",
       "     condition    cylinders fuel  odometer title_status transmission  \\\n",
       "215  excellent  4 cylinders  gas  155000.0        clean    automatic   \n",
       "219       fair  6 cylinders  gas  110661.0        clean    automatic   \n",
       "268  excellent  4 cylinders  gas   56700.0        clean    automatic   \n",
       "337  excellent  6 cylinders  gas  164000.0        clean    automatic   \n",
       "338       fair  6 cylinders  gas   88100.0        clean    automatic   \n",
       "\n",
       "                   VIN drive       size         type paint_color state  \n",
       "215  JTDBT123520243495   fwd    compact        sedan        blue    al  \n",
       "219  WBAHD6322SGK86772   rwd   mid-size        sedan       white    al  \n",
       "268  JM1NC25F570128735   rwd    compact  convertible       white    al  \n",
       "337  1FTMF1CM6BKD55331   fwd  full-size        truck       white    al  \n",
       "338        1.14023E+13   rwd  full-size        coupe      silver    al  "
      ]
     },
     "execution_count": 13,
     "metadata": {},
     "output_type": "execute_result"
    }
   ],
   "source": [
    "import pandas as pd\n",
    "import numpy as np\n",
    "\n",
    "vehicle_dataframe = pd.read_csv('data/vehicles.csv')\n",
    "\n",
    "vehicle_dataframe.loc[vehicle_dataframe[\"price\"]==0] = np.nan # Data wit a value of zero is probably incorrect so set it to na so it can be removed as to not skew model\n",
    "vehicle_dataframe.dropna(inplace=True) # remove garbage data\n",
    "\n",
    "vehicle_dataframe.head(5)\n"
   ]
  },
  {
   "cell_type": "code",
   "execution_count": null,
   "metadata": {},
   "outputs": [],
   "source": [
    "\n"
   ]
  },
  {
   "cell_type": "code",
   "execution_count": null,
   "metadata": {},
   "outputs": [],
   "source": []
  },
  {
   "cell_type": "code",
   "execution_count": null,
   "metadata": {},
   "outputs": [],
   "source": []
  },
  {
   "cell_type": "markdown",
   "metadata": {},
   "source": [
    "### Data Preparation\n",
    "\n",
    "After our initial exploration and fine-tuning of the business understanding, it is time to construct our final dataset prior to modeling.  Here, we want to make sure to handle any integrity issues and cleaning, the engineering of new features, any transformations that we believe should happen (scaling, logarithms, normalization, etc.), and general preparation for modeling with `sklearn`. "
   ]
  },
  {
   "cell_type": "code",
   "execution_count": 14,
   "metadata": {},
   "outputs": [
    {
     "name": "stdout",
     "output_type": "stream",
     "text": [
      "id\n",
      "7308860945       265.0\n",
      "7308862071       265.0\n",
      "7316327338       276.0\n",
      "7308862347       298.0\n",
      "7308862447       298.0\n",
      "                ...   \n",
      "7316459297    126995.0\n",
      "7308019982    129928.0\n",
      "7316265511    135000.0\n",
      "7316942640    144832.0\n",
      "7310531509    150000.0\n",
      "Name: price, Length: 30118, dtype: float64\n"
     ]
    }
   ],
   "source": [
    "import pandas as pd\n",
    "import numpy as np\n",
    "\n",
    "vehicle_dataframe = pd.read_csv('data/vehicles.csv')\n",
    "vehicle_dataframe.set_index('id', inplace=True)\n",
    "vehicle_dataframe[\"year\"] = vehicle_dataframe[\"year\"].astype(float)\n",
    "vehicle_dataframe[\"odometer\"] = vehicle_dataframe[\"odometer\"].astype(float)\n",
    "vehicle_dataframe.loc[vehicle_dataframe[\"year\"] < 1980] = np.nan # modern dealers will probably not have these unless they are a specialty shop\n",
    "vehicle_dataframe.loc[vehicle_dataframe[\"price\"]<=250] = np.nan # Data with a value of zero is probably incorrect so set it to na so it can be removed as to not skew model\n",
    "vehicle_dataframe.loc[vehicle_dataframe['title_status'].isin(['lien', 'rebuilt', 'salvage', 'missing', 'parts only'])] = np.nan # removing vehicles not in a sellable condition\n",
    "vehicle_dataframe.loc[vehicle_dataframe['condition'].isin(['new'])] = np.nan\n",
    "vehicle_dataframe.dropna(inplace=True) # remove garbage data\n",
    "del vehicle_dataframe['title_status']\n",
    "del vehicle_dataframe['VIN'] # Not related to value as it is an ID\n",
    "del vehicle_dataframe['region'] # Covered by state \n",
    "vehicle_dataframe['make model'] = vehicle_dataframe['manufacturer'] #+ \"-\" + vehicle_dataframe['model']\n",
    "del vehicle_dataframe['model'] # \n",
    "del vehicle_dataframe['manufacturer'] # \n",
    "del vehicle_dataframe['state']\n",
    "print(vehicle_dataframe['price'].sort_values())\n",
    "\n"
   ]
  },
  {
   "cell_type": "code",
   "execution_count": 15,
   "metadata": {},
   "outputs": [],
   "source": [
    "categorical_list = [\n",
    "    'condition',\n",
    "    'cylinders',\n",
    "    'fuel',\n",
    "    'transmission',\n",
    "    'drive',\n",
    "    'size',\n",
    "    'type',\n",
    "    'paint_color',\n",
    "    'make model'\n",
    "]\n",
    "\n",
    "vehicle_dataframe_continuous = vehicle_dataframe[[\"year\", \"odometer\"]].copy()\n",
    "\n",
    "vehicle_dataframe_categorical = vehicle_dataframe.copy()\n",
    "del vehicle_dataframe_categorical['year']\n",
    "del vehicle_dataframe_categorical['odometer']\n",
    "del vehicle_dataframe_categorical['price']\n",
    "\n",
    "category_new_columns = {}\n",
    "\n",
    "for category in categorical_list:\n",
    "    dummy_dataframe = pd.get_dummies(vehicle_dataframe_categorical[category])\n",
    "    dummy_dataframe = dummy_dataframe.add_suffix(\"-\" + category)\n",
    "    vehicle_dataframe_categorical = pd.concat([vehicle_dataframe_categorical, dummy_dataframe.astype(int)], axis=1)\n",
    "    category_new_columns.update({category:list(dummy_dataframe.columns)})\n",
    "    del vehicle_dataframe_categorical[category]\n"
   ]
  },
  {
   "cell_type": "code",
   "execution_count": null,
   "metadata": {},
   "outputs": [],
   "source": []
  },
  {
   "cell_type": "code",
   "execution_count": null,
   "metadata": {},
   "outputs": [],
   "source": []
  },
  {
   "cell_type": "code",
   "execution_count": null,
   "metadata": {},
   "outputs": [],
   "source": []
  },
  {
   "cell_type": "markdown",
   "metadata": {},
   "source": [
    "### Modeling\n",
    "\n",
    "With your (almost?) final dataset in hand, it is now time to build some models.  Here, you should build a number of different regression models with the price as the target.  In building your models, you should explore different parameters and be sure to cross-validate your findings."
   ]
  },
  {
   "cell_type": "code",
   "execution_count": 16,
   "metadata": {},
   "outputs": [
    {
     "name": "stdout",
     "output_type": "stream",
     "text": [
      "   Polynomial  Training MSE       Dev MSE\n",
      "0           1  4.233289e+08  4.192742e+08\n",
      "1           2  4.084725e+08  4.047830e+08\n",
      "2           3  4.053368e+08  4.020749e+08\n",
      "3           4  4.040753e+08  4.520088e+08\n"
     ]
    },
    {
     "data": {
      "text/plain": [
       "<Axes: xlabel='Polynomial', ylabel='Training MSE'>"
      ]
     },
     "execution_count": 16,
     "metadata": {},
     "output_type": "execute_result"
    },
    {
     "data": {
      "image/png": "[encoded data removed]",
      "text/plain": [
       "<Figure size 640x480 with 1 Axes>"
      ]
     },
     "metadata": {},
     "output_type": "display_data"
    }
   ],
   "source": [
    "from sklearn.linear_model import LinearRegression\n",
    "from sklearn.preprocessing import StandardScaler\n",
    "from sklearn.model_selection import train_test_split\n",
    "from sklearn.pipeline import Pipeline\n",
    "from sklearn.metrics import mean_squared_error\n",
    "from sklearn.preprocessing import PolynomialFeatures\n",
    "import seaborn as sns\n",
    "import matplotlib.pyplot as plt\n",
    "\n",
    "\n",
    "X_train, X_test, y_train, y_test = train_test_split(vehicle_dataframe_continuous, vehicle_dataframe['price'], random_state=42)\n",
    "\n",
    "def get_training_and_dev_mse_continuous(polynomial, training_x, training_y, dev_x, dev_y):\n",
    "    temp_train = training_x.copy()\n",
    "    temp_dev = dev_x.copy()\n",
    "    poly = PolynomialFeatures(degree=polynomial)\n",
    "\n",
    "    new_features = pd.DataFrame(poly.fit_transform(temp_train[[\"year\", \"odometer\"]]), columns=poly.get_feature_names_out())\n",
    "    new_features.index = temp_train.index\n",
    "    del new_features[\"1\"]\n",
    "    del temp_train[\"year\"]\n",
    "    del temp_train[\"odometer\"]\n",
    "    temp_train = pd.concat([temp_train, new_features], axis=1)\n",
    "\n",
    "    new_features = pd.DataFrame(poly.fit_transform(temp_dev[[\"year\", \"odometer\"]]), columns=poly.get_feature_names_out())\n",
    "    new_features.index = temp_dev.index\n",
    "    del new_features[\"1\"]\n",
    "    del temp_dev[\"year\"]\n",
    "    del temp_dev[\"odometer\"]\n",
    "    temp_dev = pd.concat([temp_dev, new_features], axis=1)\n",
    "\n",
    "    vehicle_pipe_price_model = Pipeline([('scaler', StandardScaler()), ('linreg', LinearRegression(fit_intercept=False))])\n",
    "    vehicle_pipe_price_model.fit(temp_train, training_y)\n",
    "    training_error = mean_squared_error(training_y, vehicle_pipe_price_model.predict(temp_train))\n",
    "    dev_error = mean_squared_error(dev_y, vehicle_pipe_price_model.predict(temp_dev))\n",
    "    return [(polynomial, training_error, dev_error), vehicle_pipe_price_model]\n",
    "\n",
    "results = [get_training_and_dev_mse_continuous(polynom, X_train, y_train, X_test, y_test)[0] for polynom in range(1, 5)]\n",
    "results = pd.DataFrame(results, columns=[\"Polynomial\", \"Training MSE\", \"Dev MSE\"])\n",
    "\n",
    "print(results)\n",
    "\n",
    "sns.lineplot(results, x=\"Polynomial\", y=\"Training MSE\")\n",
    "sns.lineplot(results, x=\"Polynomial\", y=\"Dev MSE\")"
   ]
  },
  {
   "cell_type": "code",
   "execution_count": 17,
   "metadata": {},
   "outputs": [
    {
     "data": {
      "text/plain": [
       "<Figure size 640x480 with 0 Axes>"
      ]
     },
     "metadata": {},
     "output_type": "display_data"
    }
   ],
   "source": [
    "vehicle_continuos_price_model = get_training_and_dev_mse_continuous(3, X_train, y_train, X_test, y_test)[1]\n",
    "feature_names = pd.Series(vehicle_continuos_price_model.feature_names_in_)\n",
    "\n",
    "odometer_year_index = feature_names.loc[feature_names.str.contains(\"odometer\") | feature_names.str.contains(\"year\")]\n",
    "continuous_coef = pd.DataFrame()\n",
    "continuous_coef[\"Continuous Feature\"] = odometer_year_index\n",
    "continuous_coef[\"Coefficient\"] = pd.Series(vehicle_continuos_price_model['linreg'].coef_).iloc[odometer_year_index.index]\n",
    "continuous_coef.sort_values(\"Coefficient\", ascending=False, inplace=True)\n",
    "continuous_coef = sns.barplot(data=continuous_coef, x=\"Coefficient\", y=\"Continuous Feature\")\n",
    "continuous_fig = continuous_coef.get_figure()\n",
    "plt.tight_layout()\n",
    "continuous_fig.savefig(\"images/linear_regression/year-odometer_coef.png\")\n",
    "plt.clf()\n",
    " "
   ]
  },
  {
   "cell_type": "code",
   "execution_count": null,
   "metadata": {},
   "outputs": [
    {
     "data": {
      "text/plain": [
       "<Figure size 640x480 with 0 Axes>"
      ]
     },
     "metadata": {},
     "output_type": "display_data"
    }
   ],
   "source": [
    "\n",
    "X_train, X_test, y_train, y_test = train_test_split(vehicle_dataframe_categorical, vehicle_dataframe['price'], random_state=42)\n",
    "\n",
    "vehicle_categorical_price_model = Pipeline([('scaler', StandardScaler()), ('linreg', LinearRegression(fit_intercept=False))])\n",
    "vehicle_categorical_price_model.fit(X_train, y_train)\n",
    "\n",
    "feature_names = pd.Series(vehicle_categorical_price_model.feature_names_in_)\n",
    "\n",
    "plt.clf()\n",
    "for key, values in category_new_columns.items(): # to simplify review of coefficients, loop through categories and put subcategories on a plot together\n",
    "    index_of_sub_categories = feature_names.loc[feature_names.isin(category_new_columns[key])]\n",
    "    category_specific_coef = pd.DataFrame()\n",
    "    category_specific_coef[\"Subcategory\"] = index_of_sub_categories\n",
    "    category_specific_coef[\"Coefficient\"] = pd.Series(vehicle_categorical_price_model['linreg'].coef_).iloc[index_of_sub_categories.index]\n",
    "    category_specific_coef.sort_values(\"Coefficient\", ascending=False, inplace=True)\n",
    "    category_coef_plot = sns.barplot(data=category_specific_coef, x=\"Coefficient\", y=\"Subcategory\", hue=\"Subcategory\")\n",
    "    #category_coef_plot.set_yticklabels(category_coef_plot.get_yticklabels(), rotation=45, ha=\"right\")\n",
    "    category_fig = category_coef_plot.get_figure()\n",
    "    plt.tight_layout()\n",
    "    category_fig.savefig(\"images/linear_regression/\" + key + \"_coef.png\")\n",
    "    plt.clf()"
   ]
  },
  {
   "cell_type": "code",
   "execution_count": null,
   "metadata": {},
   "outputs": [],
   "source": []
  },
  {
   "cell_type": "markdown",
   "metadata": {},
   "source": [
    "### Evaluation\n",
    "\n",
    "With some modeling accomplished, we aim to reflect on what we identify as a high-quality model and what we are able to learn from this.  We should review our business objective and explore how well we can provide meaningful insight into drivers of used car prices.  Your goal now is to distill your findings and determine whether the earlier phases need revisitation and adjustment or if you have information of value to bring back to your client."
   ]
  },
  {
   "cell_type": "code",
   "execution_count": 19,
   "metadata": {},
   "outputs": [],
   "source": [
    "#Please refer to Finding.docx at the root of this project"
   ]
  },
  {
   "cell_type": "markdown",
   "metadata": {},
   "source": [
    "### Deployment\n",
    "\n",
    "Now that we've settled on our models and findings, it is time to deliver the information to the client.  You should organize your work as a basic report that details your primary findings.  Keep in mind that your audience is a group of used car dealers interested in fine-tuning their inventory."
   ]
  },
  {
   "cell_type": "code",
   "execution_count": 20,
   "metadata": {},
   "outputs": [],
   "source": [
    "#Please refer to Finding.docx at the root of this project"
   ]
  }
 ],
 "metadata": {
  "kernelspec": {
   "display_name": "Python 3",
   "language": "python",
   "name": "python3"
  },
  "language_info": {
   "codemirror_mode": {
    "name": "ipython",
    "version": 3
   },
   "file_extension": ".py",
   "mimetype": "text/x-python",
   "name": "python",
   "nbconvert_exporter": "python",
   "pygments_lexer": "ipython3",
   "version": "3.12.5"
  },
  "widgets": {
   "application/vnd.jupyter.widget-state+json": {
    "state": {},
    "version_major": 2,
    "version_minor": 0
   }
  }
 },
 "nbformat": 4,
 "nbformat_minor": 4
}
